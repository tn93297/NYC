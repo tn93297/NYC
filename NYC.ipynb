{
 "cells": [
  {
   "cell_type": "markdown",
   "metadata": {},
   "source": [
    "Data consists of different Taxi trips around NYC -- includes factors such as cost, distance traveled, Pickup Location, Dropoff Location, Duration, tip, etc."
   ]
  },
  {
   "cell_type": "code",
   "execution_count": 2,
   "metadata": {},
   "outputs": [
    {
     "data": {
      "text/html": [
       "<div>\n",
       "<style scoped>\n",
       "    .dataframe tbody tr th:only-of-type {\n",
       "        vertical-align: middle;\n",
       "    }\n",
       "\n",
       "    .dataframe tbody tr th {\n",
       "        vertical-align: top;\n",
       "    }\n",
       "\n",
       "    .dataframe thead th {\n",
       "        text-align: right;\n",
       "    }\n",
       "</style>\n",
       "<table border=\"1\" class=\"dataframe\">\n",
       "  <thead>\n",
       "    <tr style=\"text-align: right;\">\n",
       "      <th></th>\n",
       "      <th>VendorID</th>\n",
       "      <th>tpep_pickup_datetime</th>\n",
       "      <th>tpep_dropoff_datetime</th>\n",
       "      <th>passenger_count</th>\n",
       "      <th>trip_distance</th>\n",
       "      <th>RatecodeID</th>\n",
       "      <th>store_and_fwd_flag</th>\n",
       "      <th>PULocationID</th>\n",
       "      <th>DOLocationID</th>\n",
       "      <th>payment_type</th>\n",
       "      <th>fare_amount</th>\n",
       "      <th>extra</th>\n",
       "      <th>mta_tax</th>\n",
       "      <th>tip_amount</th>\n",
       "      <th>tolls_amount</th>\n",
       "      <th>improvement_surcharge</th>\n",
       "      <th>total_amount</th>\n",
       "    </tr>\n",
       "  </thead>\n",
       "  <tbody>\n",
       "    <tr>\n",
       "      <th>0</th>\n",
       "      <td>2</td>\n",
       "      <td>2017-06-08 07:52:31</td>\n",
       "      <td>2017-06-08 08:01:32</td>\n",
       "      <td>6</td>\n",
       "      <td>1.03</td>\n",
       "      <td>1</td>\n",
       "      <td>N</td>\n",
       "      <td>161</td>\n",
       "      <td>140</td>\n",
       "      <td>1</td>\n",
       "      <td>7.5</td>\n",
       "      <td>1.0</td>\n",
       "      <td>0.5</td>\n",
       "      <td>1.86</td>\n",
       "      <td>0.0</td>\n",
       "      <td>0.3</td>\n",
       "      <td>11.16</td>\n",
       "    </tr>\n",
       "    <tr>\n",
       "      <th>1</th>\n",
       "      <td>2</td>\n",
       "      <td>2017-06-08 08:08:18</td>\n",
       "      <td>2017-06-08 08:14:00</td>\n",
       "      <td>6</td>\n",
       "      <td>1.03</td>\n",
       "      <td>1</td>\n",
       "      <td>N</td>\n",
       "      <td>162</td>\n",
       "      <td>233</td>\n",
       "      <td>1</td>\n",
       "      <td>6.0</td>\n",
       "      <td>1.0</td>\n",
       "      <td>0.5</td>\n",
       "      <td>2.34</td>\n",
       "      <td>0.0</td>\n",
       "      <td>0.3</td>\n",
       "      <td>10.14</td>\n",
       "    </tr>\n",
       "    <tr>\n",
       "      <th>2</th>\n",
       "      <td>2</td>\n",
       "      <td>2017-06-08 08:16:49</td>\n",
       "      <td>2017-06-08 15:43:22</td>\n",
       "      <td>6</td>\n",
       "      <td>5.63</td>\n",
       "      <td>1</td>\n",
       "      <td>N</td>\n",
       "      <td>137</td>\n",
       "      <td>41</td>\n",
       "      <td>2</td>\n",
       "      <td>21.5</td>\n",
       "      <td>1.0</td>\n",
       "      <td>0.5</td>\n",
       "      <td>0.00</td>\n",
       "      <td>0.0</td>\n",
       "      <td>0.3</td>\n",
       "      <td>23.30</td>\n",
       "    </tr>\n",
       "    <tr>\n",
       "      <th>3</th>\n",
       "      <td>1</td>\n",
       "      <td>2017-06-09 17:59:37</td>\n",
       "      <td>2017-06-09 18:04:40</td>\n",
       "      <td>1</td>\n",
       "      <td>0.60</td>\n",
       "      <td>1</td>\n",
       "      <td>N</td>\n",
       "      <td>164</td>\n",
       "      <td>234</td>\n",
       "      <td>1</td>\n",
       "      <td>5.0</td>\n",
       "      <td>1.0</td>\n",
       "      <td>0.5</td>\n",
       "      <td>1.02</td>\n",
       "      <td>0.0</td>\n",
       "      <td>0.3</td>\n",
       "      <td>7.82</td>\n",
       "    </tr>\n",
       "    <tr>\n",
       "      <th>4</th>\n",
       "      <td>1</td>\n",
       "      <td>2017-06-09 17:59:37</td>\n",
       "      <td>2017-06-09 18:19:26</td>\n",
       "      <td>1</td>\n",
       "      <td>2.80</td>\n",
       "      <td>1</td>\n",
       "      <td>N</td>\n",
       "      <td>229</td>\n",
       "      <td>113</td>\n",
       "      <td>1</td>\n",
       "      <td>14.5</td>\n",
       "      <td>1.0</td>\n",
       "      <td>0.5</td>\n",
       "      <td>3.25</td>\n",
       "      <td>0.0</td>\n",
       "      <td>0.3</td>\n",
       "      <td>19.55</td>\n",
       "    </tr>\n",
       "    <tr>\n",
       "      <th>...</th>\n",
       "      <td>...</td>\n",
       "      <td>...</td>\n",
       "      <td>...</td>\n",
       "      <td>...</td>\n",
       "      <td>...</td>\n",
       "      <td>...</td>\n",
       "      <td>...</td>\n",
       "      <td>...</td>\n",
       "      <td>...</td>\n",
       "      <td>...</td>\n",
       "      <td>...</td>\n",
       "      <td>...</td>\n",
       "      <td>...</td>\n",
       "      <td>...</td>\n",
       "      <td>...</td>\n",
       "      <td>...</td>\n",
       "      <td>...</td>\n",
       "    </tr>\n",
       "    <tr>\n",
       "      <th>2302082</th>\n",
       "      <td>2</td>\n",
       "      <td>2017-06-11 23:59:50</td>\n",
       "      <td>2017-06-12 00:04:10</td>\n",
       "      <td>5</td>\n",
       "      <td>1.31</td>\n",
       "      <td>1</td>\n",
       "      <td>N</td>\n",
       "      <td>7</td>\n",
       "      <td>193</td>\n",
       "      <td>2</td>\n",
       "      <td>6.0</td>\n",
       "      <td>0.5</td>\n",
       "      <td>0.5</td>\n",
       "      <td>0.00</td>\n",
       "      <td>0.0</td>\n",
       "      <td>0.3</td>\n",
       "      <td>7.30</td>\n",
       "    </tr>\n",
       "    <tr>\n",
       "      <th>2302083</th>\n",
       "      <td>2</td>\n",
       "      <td>2017-06-11 23:59:52</td>\n",
       "      <td>2017-06-12 00:11:03</td>\n",
       "      <td>1</td>\n",
       "      <td>3.17</td>\n",
       "      <td>1</td>\n",
       "      <td>N</td>\n",
       "      <td>234</td>\n",
       "      <td>236</td>\n",
       "      <td>2</td>\n",
       "      <td>11.5</td>\n",
       "      <td>0.5</td>\n",
       "      <td>0.5</td>\n",
       "      <td>0.00</td>\n",
       "      <td>0.0</td>\n",
       "      <td>0.3</td>\n",
       "      <td>12.80</td>\n",
       "    </tr>\n",
       "    <tr>\n",
       "      <th>2302084</th>\n",
       "      <td>2</td>\n",
       "      <td>2017-06-11 23:59:58</td>\n",
       "      <td>2017-06-12 00:13:24</td>\n",
       "      <td>1</td>\n",
       "      <td>3.65</td>\n",
       "      <td>1</td>\n",
       "      <td>N</td>\n",
       "      <td>148</td>\n",
       "      <td>17</td>\n",
       "      <td>2</td>\n",
       "      <td>14.0</td>\n",
       "      <td>0.5</td>\n",
       "      <td>0.5</td>\n",
       "      <td>0.00</td>\n",
       "      <td>0.0</td>\n",
       "      <td>0.3</td>\n",
       "      <td>15.30</td>\n",
       "    </tr>\n",
       "    <tr>\n",
       "      <th>2302085</th>\n",
       "      <td>2</td>\n",
       "      <td>2017-06-11 23:59:58</td>\n",
       "      <td>2017-06-12 00:07:21</td>\n",
       "      <td>1</td>\n",
       "      <td>1.01</td>\n",
       "      <td>1</td>\n",
       "      <td>N</td>\n",
       "      <td>230</td>\n",
       "      <td>163</td>\n",
       "      <td>2</td>\n",
       "      <td>6.5</td>\n",
       "      <td>0.5</td>\n",
       "      <td>0.5</td>\n",
       "      <td>0.00</td>\n",
       "      <td>0.0</td>\n",
       "      <td>0.3</td>\n",
       "      <td>7.80</td>\n",
       "    </tr>\n",
       "    <tr>\n",
       "      <th>2302086</th>\n",
       "      <td>2</td>\n",
       "      <td>2017-06-11 23:59:59</td>\n",
       "      <td>2017-06-12 00:11:15</td>\n",
       "      <td>1</td>\n",
       "      <td>2.07</td>\n",
       "      <td>1</td>\n",
       "      <td>N</td>\n",
       "      <td>48</td>\n",
       "      <td>249</td>\n",
       "      <td>1</td>\n",
       "      <td>9.5</td>\n",
       "      <td>0.5</td>\n",
       "      <td>0.5</td>\n",
       "      <td>2.16</td>\n",
       "      <td>0.0</td>\n",
       "      <td>0.3</td>\n",
       "      <td>12.96</td>\n",
       "    </tr>\n",
       "  </tbody>\n",
       "</table>\n",
       "<p>2302087 rows × 17 columns</p>\n",
       "</div>"
      ],
      "text/plain": [
       "         VendorID tpep_pickup_datetime tpep_dropoff_datetime  passenger_count  \\\n",
       "0               2  2017-06-08 07:52:31   2017-06-08 08:01:32                6   \n",
       "1               2  2017-06-08 08:08:18   2017-06-08 08:14:00                6   \n",
       "2               2  2017-06-08 08:16:49   2017-06-08 15:43:22                6   \n",
       "3               1  2017-06-09 17:59:37   2017-06-09 18:04:40                1   \n",
       "4               1  2017-06-09 17:59:37   2017-06-09 18:19:26                1   \n",
       "...           ...                  ...                   ...              ...   \n",
       "2302082         2  2017-06-11 23:59:50   2017-06-12 00:04:10                5   \n",
       "2302083         2  2017-06-11 23:59:52   2017-06-12 00:11:03                1   \n",
       "2302084         2  2017-06-11 23:59:58   2017-06-12 00:13:24                1   \n",
       "2302085         2  2017-06-11 23:59:58   2017-06-12 00:07:21                1   \n",
       "2302086         2  2017-06-11 23:59:59   2017-06-12 00:11:15                1   \n",
       "\n",
       "         trip_distance  RatecodeID store_and_fwd_flag  PULocationID  \\\n",
       "0                 1.03           1                  N           161   \n",
       "1                 1.03           1                  N           162   \n",
       "2                 5.63           1                  N           137   \n",
       "3                 0.60           1                  N           164   \n",
       "4                 2.80           1                  N           229   \n",
       "...                ...         ...                ...           ...   \n",
       "2302082           1.31           1                  N             7   \n",
       "2302083           3.17           1                  N           234   \n",
       "2302084           3.65           1                  N           148   \n",
       "2302085           1.01           1                  N           230   \n",
       "2302086           2.07           1                  N            48   \n",
       "\n",
       "         DOLocationID  payment_type  fare_amount  extra  mta_tax  tip_amount  \\\n",
       "0                 140             1          7.5    1.0      0.5        1.86   \n",
       "1                 233             1          6.0    1.0      0.5        2.34   \n",
       "2                  41             2         21.5    1.0      0.5        0.00   \n",
       "3                 234             1          5.0    1.0      0.5        1.02   \n",
       "4                 113             1         14.5    1.0      0.5        3.25   \n",
       "...               ...           ...          ...    ...      ...         ...   \n",
       "2302082           193             2          6.0    0.5      0.5        0.00   \n",
       "2302083           236             2         11.5    0.5      0.5        0.00   \n",
       "2302084            17             2         14.0    0.5      0.5        0.00   \n",
       "2302085           163             2          6.5    0.5      0.5        0.00   \n",
       "2302086           249             1          9.5    0.5      0.5        2.16   \n",
       "\n",
       "         tolls_amount  improvement_surcharge  total_amount  \n",
       "0                 0.0                    0.3         11.16  \n",
       "1                 0.0                    0.3         10.14  \n",
       "2                 0.0                    0.3         23.30  \n",
       "3                 0.0                    0.3          7.82  \n",
       "4                 0.0                    0.3         19.55  \n",
       "...               ...                    ...           ...  \n",
       "2302082           0.0                    0.3          7.30  \n",
       "2302083           0.0                    0.3         12.80  \n",
       "2302084           0.0                    0.3         15.30  \n",
       "2302085           0.0                    0.3          7.80  \n",
       "2302086           0.0                    0.3         12.96  \n",
       "\n",
       "[2302087 rows x 17 columns]"
      ]
     },
     "execution_count": 2,
     "metadata": {},
     "output_type": "execute_result"
    }
   ],
   "source": [
    "import pandas as pd\n",
    "import numpy as np\n",
    "import matplotlib.pyplot as plt\n",
    "\n",
    "df = pd.read_csv ('/Users/alancaldera/Downloads/taxi.csv')\n",
    "df"
   ]
  },
  {
   "cell_type": "markdown",
   "metadata": {},
   "source": [
    "# Section 1"
   ]
  },
  {
   "cell_type": "markdown",
   "metadata": {},
   "source": [
    "## a) Cleaning data"
   ]
  },
  {
   "cell_type": "code",
   "execution_count": 3,
   "metadata": {},
   "outputs": [
    {
     "data": {
      "text/html": [
       "<div>\n",
       "<style scoped>\n",
       "    .dataframe tbody tr th:only-of-type {\n",
       "        vertical-align: middle;\n",
       "    }\n",
       "\n",
       "    .dataframe tbody tr th {\n",
       "        vertical-align: top;\n",
       "    }\n",
       "\n",
       "    .dataframe thead th {\n",
       "        text-align: right;\n",
       "    }\n",
       "</style>\n",
       "<table border=\"1\" class=\"dataframe\">\n",
       "  <thead>\n",
       "    <tr style=\"text-align: right;\">\n",
       "      <th></th>\n",
       "      <th>trip_distance</th>\n",
       "      <th>rounded_trip_distance</th>\n",
       "      <th>duration</th>\n",
       "    </tr>\n",
       "  </thead>\n",
       "  <tbody>\n",
       "    <tr>\n",
       "      <th>0</th>\n",
       "      <td>1.03</td>\n",
       "      <td>1.0</td>\n",
       "      <td>541.0</td>\n",
       "    </tr>\n",
       "    <tr>\n",
       "      <th>1</th>\n",
       "      <td>1.03</td>\n",
       "      <td>1.0</td>\n",
       "      <td>342.0</td>\n",
       "    </tr>\n",
       "    <tr>\n",
       "      <th>2</th>\n",
       "      <td>5.63</td>\n",
       "      <td>6.0</td>\n",
       "      <td>26793.0</td>\n",
       "    </tr>\n",
       "    <tr>\n",
       "      <th>3</th>\n",
       "      <td>0.60</td>\n",
       "      <td>1.0</td>\n",
       "      <td>303.0</td>\n",
       "    </tr>\n",
       "    <tr>\n",
       "      <th>4</th>\n",
       "      <td>2.80</td>\n",
       "      <td>3.0</td>\n",
       "      <td>1189.0</td>\n",
       "    </tr>\n",
       "    <tr>\n",
       "      <th>...</th>\n",
       "      <td>...</td>\n",
       "      <td>...</td>\n",
       "      <td>...</td>\n",
       "    </tr>\n",
       "    <tr>\n",
       "      <th>2302082</th>\n",
       "      <td>1.31</td>\n",
       "      <td>1.0</td>\n",
       "      <td>260.0</td>\n",
       "    </tr>\n",
       "    <tr>\n",
       "      <th>2302083</th>\n",
       "      <td>3.17</td>\n",
       "      <td>3.0</td>\n",
       "      <td>671.0</td>\n",
       "    </tr>\n",
       "    <tr>\n",
       "      <th>2302084</th>\n",
       "      <td>3.65</td>\n",
       "      <td>4.0</td>\n",
       "      <td>806.0</td>\n",
       "    </tr>\n",
       "    <tr>\n",
       "      <th>2302085</th>\n",
       "      <td>1.01</td>\n",
       "      <td>1.0</td>\n",
       "      <td>443.0</td>\n",
       "    </tr>\n",
       "    <tr>\n",
       "      <th>2302086</th>\n",
       "      <td>2.07</td>\n",
       "      <td>2.0</td>\n",
       "      <td>676.0</td>\n",
       "    </tr>\n",
       "  </tbody>\n",
       "</table>\n",
       "<p>2302087 rows × 3 columns</p>\n",
       "</div>"
      ],
      "text/plain": [
       "         trip_distance  rounded_trip_distance  duration\n",
       "0                 1.03                    1.0     541.0\n",
       "1                 1.03                    1.0     342.0\n",
       "2                 5.63                    6.0   26793.0\n",
       "3                 0.60                    1.0     303.0\n",
       "4                 2.80                    3.0    1189.0\n",
       "...                ...                    ...       ...\n",
       "2302082           1.31                    1.0     260.0\n",
       "2302083           3.17                    3.0     671.0\n",
       "2302084           3.65                    4.0     806.0\n",
       "2302085           1.01                    1.0     443.0\n",
       "2302086           2.07                    2.0     676.0\n",
       "\n",
       "[2302087 rows x 3 columns]"
      ]
     },
     "execution_count": 3,
     "metadata": {},
     "output_type": "execute_result"
    }
   ],
   "source": [
    "# Transfer data\n",
    "q1 = df.copy()\n",
    "\n",
    "# Make Trip Distance rounded\n",
    "trip_distance = q1['trip_distance']\n",
    "rounded_trip_distance = trip_distance.round(0)\n",
    "\n",
    "# Make duration\n",
    "dropoff = q1['tpep_dropoff_datetime'].astype('datetime64') \n",
    "pickup = q1['tpep_pickup_datetime'].astype('datetime64') \n",
    "duration = (dropoff-pickup).dt.total_seconds()\n",
    "\n",
    "# Final dataframe for a\n",
    "q_a = pd.DataFrame()\n",
    "q_a['trip_distance'] = trip_distance\n",
    "q_a['rounded_trip_distance'] = rounded_trip_distance\n",
    "q_a['duration'] = duration\n",
    "q_a"
   ]
  },
  {
   "cell_type": "markdown",
   "metadata": {},
   "source": [
    "## b) Analyzing Velocity by Rounded Trip Distance\n",
    "\n",
    "In order to visualize fluctuations in velocities with respect to distance."
   ]
  },
  {
   "cell_type": "code",
   "execution_count": 4,
   "metadata": {},
   "outputs": [
    {
     "data": {
      "text/html": [
       "<div>\n",
       "<style scoped>\n",
       "    .dataframe tbody tr th:only-of-type {\n",
       "        vertical-align: middle;\n",
       "    }\n",
       "\n",
       "    .dataframe tbody tr th {\n",
       "        vertical-align: top;\n",
       "    }\n",
       "\n",
       "    .dataframe thead th {\n",
       "        text-align: right;\n",
       "    }\n",
       "</style>\n",
       "<table border=\"1\" class=\"dataframe\">\n",
       "  <thead>\n",
       "    <tr style=\"text-align: right;\">\n",
       "      <th></th>\n",
       "      <th>trip_distance</th>\n",
       "      <th>duration</th>\n",
       "      <th>velocity</th>\n",
       "    </tr>\n",
       "    <tr>\n",
       "      <th>rounded_trip_distance</th>\n",
       "      <th></th>\n",
       "      <th></th>\n",
       "      <th></th>\n",
       "    </tr>\n",
       "  </thead>\n",
       "  <tbody>\n",
       "    <tr>\n",
       "      <th>0.0</th>\n",
       "      <td>50258.11</td>\n",
       "      <td>39687998.0</td>\n",
       "      <td>4.558789</td>\n",
       "    </tr>\n",
       "    <tr>\n",
       "      <th>1.0</th>\n",
       "      <td>864829.59</td>\n",
       "      <td>488994120.0</td>\n",
       "      <td>6.366920</td>\n",
       "    </tr>\n",
       "    <tr>\n",
       "      <th>2.0</th>\n",
       "      <td>1074162.26</td>\n",
       "      <td>504729981.0</td>\n",
       "      <td>7.661491</td>\n",
       "    </tr>\n",
       "    <tr>\n",
       "      <th>3.0</th>\n",
       "      <td>671211.35</td>\n",
       "      <td>277323439.0</td>\n",
       "      <td>8.713150</td>\n",
       "    </tr>\n",
       "    <tr>\n",
       "      <th>4.0</th>\n",
       "      <td>517210.41</td>\n",
       "      <td>183865523.0</td>\n",
       "      <td>10.126735</td>\n",
       "    </tr>\n",
       "    <tr>\n",
       "      <th>...</th>\n",
       "      <td>...</td>\n",
       "      <td>...</td>\n",
       "      <td>...</td>\n",
       "    </tr>\n",
       "    <tr>\n",
       "      <th>117.0</th>\n",
       "      <td>116.90</td>\n",
       "      <td>8114.0</td>\n",
       "      <td>51.865911</td>\n",
       "    </tr>\n",
       "    <tr>\n",
       "      <th>118.0</th>\n",
       "      <td>118.11</td>\n",
       "      <td>7807.0</td>\n",
       "      <td>54.463430</td>\n",
       "    </tr>\n",
       "    <tr>\n",
       "      <th>120.0</th>\n",
       "      <td>120.47</td>\n",
       "      <td>10238.0</td>\n",
       "      <td>42.361008</td>\n",
       "    </tr>\n",
       "    <tr>\n",
       "      <th>187.0</th>\n",
       "      <td>186.79</td>\n",
       "      <td>3115.0</td>\n",
       "      <td>215.872873</td>\n",
       "    </tr>\n",
       "    <tr>\n",
       "      <th>4209.0</th>\n",
       "      <td>4208.94</td>\n",
       "      <td>64012.0</td>\n",
       "      <td>236.708492</td>\n",
       "    </tr>\n",
       "  </tbody>\n",
       "</table>\n",
       "<p>83 rows × 3 columns</p>\n",
       "</div>"
      ],
      "text/plain": [
       "                       trip_distance     duration    velocity\n",
       "rounded_trip_distance                                        \n",
       "0.0                         50258.11   39687998.0    4.558789\n",
       "1.0                        864829.59  488994120.0    6.366920\n",
       "2.0                       1074162.26  504729981.0    7.661491\n",
       "3.0                        671211.35  277323439.0    8.713150\n",
       "4.0                        517210.41  183865523.0   10.126735\n",
       "...                              ...          ...         ...\n",
       "117.0                         116.90       8114.0   51.865911\n",
       "118.0                         118.11       7807.0   54.463430\n",
       "120.0                         120.47      10238.0   42.361008\n",
       "187.0                         186.79       3115.0  215.872873\n",
       "4209.0                       4208.94      64012.0  236.708492\n",
       "\n",
       "[83 rows x 3 columns]"
      ]
     },
     "execution_count": 4,
     "metadata": {},
     "output_type": "execute_result"
    }
   ],
   "source": [
    "# Groupby on rounded_trip_distance\n",
    "q_b = q_a.groupby('rounded_trip_distance').sum()\n",
    "\n",
    "# Add velocity column\n",
    "q_b['velocity'] = ((q_b['trip_distance'])/(q_b['duration']))*3600\n",
    "q_b"
   ]
  },
  {
   "cell_type": "code",
   "execution_count": 8,
   "metadata": {},
   "outputs": [
    {
     "data": {
      "text/plain": [
       "Text(0.5, 1.0, 'Velocity vs Distance')"
      ]
     },
     "execution_count": 8,
     "metadata": {},
     "output_type": "execute_result"
    },
    {
     "data": {
      "image/png": "[encoded data removed]",
      "text/plain": [
       "<Figure size 432x288 with 1 Axes>"
      ]
     },
     "metadata": {
      "needs_background": "light"
     },
     "output_type": "display_data"
    }
   ],
   "source": [
    "# Plot\n",
    "plt.plot(q_b,'.-')\n",
    "\n",
    "#limits\n",
    "plt.xlim(0,50)\n",
    "plt.ylim(0,50)\n",
    "\n",
    "#axis\n",
    "plt.ylabel('Velocity (mi/h)')\n",
    "plt.xlabel('Distance (mi)')\n",
    "plt.title('Velocity vs Distance')"
   ]
  },
  {
   "cell_type": "markdown",
   "metadata": {},
   "source": [
    "## c) Velocity vs Distance instances without outliers"
   ]
  },
  {
   "cell_type": "code",
   "execution_count": 7,
   "metadata": {},
   "outputs": [
    {
     "data": {
      "text/plain": [
       "Text(0.5, 1.0, 'Velocity vs Distance')"
      ]
     },
     "execution_count": 7,
     "metadata": {},
     "output_type": "execute_result"
    },
    {
     "data": {
      "image/png": "[encoded data removed]",
      "text/plain": [
       "<Figure size 432x288 with 1 Axes>"
      ]
     },
     "metadata": {
      "needs_background": "light"
     },
     "output_type": "display_data"
    }
   ],
   "source": [
    "# Copy\n",
    "q_c = q_a.copy()\n",
    "\n",
    "# Velocity column\n",
    "q_c['velocity'] = (q_c['trip_distance'] / q_c['duration'])*3600\n",
    "\n",
    "# Filter out high velocities and no duration\n",
    "q_c[(q_c['duration']>0) & (q_c['velocity']<100)]\n",
    "\n",
    "# Set Velocity and Distance up to 50 each\n",
    "q_c = q_c[(q_c['trip_distance']<=50) & (q_c['velocity']<=50)]\n",
    "\n",
    "# Plot\n",
    "plt.plot(q_c['trip_distance'], q_c['velocity'],'.',markersize=.05)\n",
    "plt.xlim(0,50)\n",
    "plt.ylim(0,50)\n",
    "plt.ylabel('Velocity (mi/h)')\n",
    "plt.xlabel('Distance (mi)')\n",
    "plt.title('Velocity vs Distance')"
   ]
  },
  {
   "cell_type": "markdown",
   "metadata": {},
   "source": [
    "# Section 2"
   ]
  },
  {
   "cell_type": "markdown",
   "metadata": {},
   "source": [
    "Calculating most common pre-tip amounts for 'medium' length Taxi fares"
   ]
  },
  {
   "cell_type": "code",
   "execution_count": 251,
   "metadata": {},
   "outputs": [
    {
     "data": {
      "text/plain": [
       "58.6    29106\n",
       "52.8    13009\n",
       "63.1     7107\n",
       "Name: pre_tip, dtype: int64"
      ]
     },
     "execution_count": 251,
     "metadata": {},
     "output_type": "execute_result"
    }
   ],
   "source": [
    "q2 = pd.DataFrame()\n",
    "\n",
    "# Make pre-tip amount in data set\n",
    "q2['pre_tip'] = df['total_amount'] - df['tip_amount']\n",
    "\n",
    "# Round to nearest 10 cents\n",
    "q2['pre_tip'] = q2['pre_tip'].round(1)\n",
    "\n",
    "# Filter to wanted amounts\n",
    "q2 = q2[(q2['pre_tip']>=30) & (q2['pre_tip']<=70)]\n",
    "\n",
    "# Find top 3 most common pre-tip amounts\n",
    "q2['pre_tip'].value_counts().head(3)"
   ]
  },
  {
   "cell_type": "markdown",
   "metadata": {},
   "source": [
    "Top 3 pre-tip amounts alongside corresponding # of records:\n",
    "\n",
    "--------------------------------\n",
    "| Amount | # of records    |\n",
    "|--------|-----------------|\n",
    "|   58.6 |     29106       |\n",
    "|   52.8 |     13009       |\n",
    "|   63.1 |     7107        |\n"
   ]
  },
  {
   "cell_type": "markdown",
   "metadata": {},
   "source": [
    "# Section 3"
   ]
  },
  {
   "cell_type": "markdown",
   "metadata": {},
   "source": [
    "Seeing how velocity differs during the time of day / night for Monday - Friday for trips under 1 hour long in order to see just how much more drivers speed at night. "
   ]
  },
  {
   "cell_type": "code",
   "execution_count": 8,
   "metadata": {},
   "outputs": [
    {
     "data": {
      "text/plain": [
       "Text(0.5, 1.0, 'Velocity vs Time of day for Monday - Friday averages')"
      ]
     },
     "execution_count": 8,
     "metadata": {},
     "output_type": "execute_result"
    },
    {
     "data": {
      "image/png": "[encoded data removed]",
      "text/plain": [
       "<Figure size 432x288 with 1 Axes>"
      ]
     },
     "metadata": {
      "needs_background": "light"
     },
     "output_type": "display_data"
    }
   ],
   "source": [
    "q3 = df.copy()\n",
    "\n",
    "# Get duration\n",
    "dropoff = q3['tpep_dropoff_datetime'].astype('datetime64') \n",
    "pickup = q3['tpep_pickup_datetime'].astype('datetime64') \n",
    "duration = (dropoff-pickup).dt.total_seconds()\n",
    "q3['duration'] = duration\n",
    "\n",
    "# Get hour of day and day of week\n",
    "q3['hourofday'] = df['tpep_dropoff_datetime'].astype('datetime64').dt.hour \n",
    "q3['dayofweek'] = df['tpep_dropoff_datetime'].astype('datetime64').dt.dayofweek\n",
    "\n",
    "# Filter\n",
    "q3 = q3[(q3['duration']<3600) & (q3['dayofweek']<5)]\n",
    "\n",
    "# Groupby hour of day\n",
    "q3 = q3.groupby(by='hourofday').sum()\n",
    "\n",
    "# Create velocity\n",
    "q3['velocity'] = (q3['trip_distance'] / q3['duration'])*3600\n",
    "\n",
    "# Plot\n",
    "plt.plot(q3['velocity'],'.-')\n",
    "\n",
    "#axis\n",
    "plt.ylabel('Velocity (mi/h)')\n",
    "plt.xlabel('Hour of Day')\n",
    "plt.title('Velocity vs Time of day for Monday - Friday averages')"
   ]
  },
  {
   "cell_type": "markdown",
   "metadata": {},
   "source": [
    "It has this shape because almost no one is driving on the road during the high velocity hours (early morning and late night / after rush hour) so more people are likely to speed since there is less traffic and are less likely to be caught by a cop."
   ]
  },
  {
   "cell_type": "markdown",
   "metadata": {},
   "source": [
    "# Section 4"
   ]
  },
  {
   "cell_type": "markdown",
   "metadata": {},
   "source": [
    "Used secondary dataset in order to find which boroughs had highest amount of volume in trips internally and externally."
   ]
  },
  {
   "cell_type": "markdown",
   "metadata": {},
   "source": [
    "## a) Boroughs in NYC with most amount of taxi trips"
   ]
  },
  {
   "cell_type": "code",
   "execution_count": 254,
   "metadata": {},
   "outputs": [
    {
     "data": {
      "text/html": [
       "<div>\n",
       "<style scoped>\n",
       "    .dataframe tbody tr th:only-of-type {\n",
       "        vertical-align: middle;\n",
       "    }\n",
       "\n",
       "    .dataframe tbody tr th {\n",
       "        vertical-align: top;\n",
       "    }\n",
       "\n",
       "    .dataframe thead th {\n",
       "        text-align: right;\n",
       "    }\n",
       "</style>\n",
       "<table border=\"1\" class=\"dataframe\">\n",
       "  <thead>\n",
       "    <tr style=\"text-align: right;\">\n",
       "      <th></th>\n",
       "      <th>LocationID</th>\n",
       "      <th>Borough</th>\n",
       "      <th>Zone</th>\n",
       "      <th>service_zone</th>\n",
       "    </tr>\n",
       "  </thead>\n",
       "  <tbody>\n",
       "    <tr>\n",
       "      <th>0</th>\n",
       "      <td>1</td>\n",
       "      <td>EWR</td>\n",
       "      <td>Newark Airport</td>\n",
       "      <td>EWR</td>\n",
       "    </tr>\n",
       "    <tr>\n",
       "      <th>1</th>\n",
       "      <td>2</td>\n",
       "      <td>Queens</td>\n",
       "      <td>Jamaica Bay</td>\n",
       "      <td>Boro Zone</td>\n",
       "    </tr>\n",
       "    <tr>\n",
       "      <th>2</th>\n",
       "      <td>3</td>\n",
       "      <td>Bronx</td>\n",
       "      <td>Allerton/Pelham Gardens</td>\n",
       "      <td>Boro Zone</td>\n",
       "    </tr>\n",
       "    <tr>\n",
       "      <th>3</th>\n",
       "      <td>4</td>\n",
       "      <td>Manhattan</td>\n",
       "      <td>Alphabet City</td>\n",
       "      <td>Yellow Zone</td>\n",
       "    </tr>\n",
       "    <tr>\n",
       "      <th>4</th>\n",
       "      <td>5</td>\n",
       "      <td>Staten Island</td>\n",
       "      <td>Arden Heights</td>\n",
       "      <td>Boro Zone</td>\n",
       "    </tr>\n",
       "    <tr>\n",
       "      <th>...</th>\n",
       "      <td>...</td>\n",
       "      <td>...</td>\n",
       "      <td>...</td>\n",
       "      <td>...</td>\n",
       "    </tr>\n",
       "    <tr>\n",
       "      <th>260</th>\n",
       "      <td>261</td>\n",
       "      <td>Manhattan</td>\n",
       "      <td>World Trade Center</td>\n",
       "      <td>Yellow Zone</td>\n",
       "    </tr>\n",
       "    <tr>\n",
       "      <th>261</th>\n",
       "      <td>262</td>\n",
       "      <td>Manhattan</td>\n",
       "      <td>Yorkville East</td>\n",
       "      <td>Yellow Zone</td>\n",
       "    </tr>\n",
       "    <tr>\n",
       "      <th>262</th>\n",
       "      <td>263</td>\n",
       "      <td>Manhattan</td>\n",
       "      <td>Yorkville West</td>\n",
       "      <td>Yellow Zone</td>\n",
       "    </tr>\n",
       "    <tr>\n",
       "      <th>263</th>\n",
       "      <td>264</td>\n",
       "      <td>Unknown</td>\n",
       "      <td>NV</td>\n",
       "      <td>NaN</td>\n",
       "    </tr>\n",
       "    <tr>\n",
       "      <th>264</th>\n",
       "      <td>265</td>\n",
       "      <td>Unknown</td>\n",
       "      <td>NaN</td>\n",
       "      <td>NaN</td>\n",
       "    </tr>\n",
       "  </tbody>\n",
       "</table>\n",
       "<p>265 rows × 4 columns</p>\n",
       "</div>"
      ],
      "text/plain": [
       "     LocationID        Borough                     Zone service_zone\n",
       "0             1            EWR           Newark Airport          EWR\n",
       "1             2         Queens              Jamaica Bay    Boro Zone\n",
       "2             3          Bronx  Allerton/Pelham Gardens    Boro Zone\n",
       "3             4      Manhattan            Alphabet City  Yellow Zone\n",
       "4             5  Staten Island            Arden Heights    Boro Zone\n",
       "..          ...            ...                      ...          ...\n",
       "260         261      Manhattan       World Trade Center  Yellow Zone\n",
       "261         262      Manhattan           Yorkville East  Yellow Zone\n",
       "262         263      Manhattan           Yorkville West  Yellow Zone\n",
       "263         264        Unknown                       NV          NaN\n",
       "264         265        Unknown                      NaN          NaN\n",
       "\n",
       "[265 rows x 4 columns]"
      ]
     },
     "execution_count": 254,
     "metadata": {},
     "output_type": "execute_result"
    }
   ],
   "source": [
    "# Import and initialize\n",
    "q4_data = pd.read_csv ('/Users/alancaldera/Downloads/taxi_zone_lookup.csv')\n",
    "q4 = df.copy()\n",
    "q4_data"
   ]
  },
  {
   "cell_type": "code",
   "execution_count": 276,
   "metadata": {},
   "outputs": [
    {
     "data": {
      "text/html": [
       "<div>\n",
       "<style scoped>\n",
       "    .dataframe tbody tr th:only-of-type {\n",
       "        vertical-align: middle;\n",
       "    }\n",
       "\n",
       "    .dataframe tbody tr th {\n",
       "        vertical-align: top;\n",
       "    }\n",
       "\n",
       "    .dataframe thead th {\n",
       "        text-align: right;\n",
       "    }\n",
       "</style>\n",
       "<table border=\"1\" class=\"dataframe\">\n",
       "  <thead>\n",
       "    <tr style=\"text-align: right;\">\n",
       "      <th></th>\n",
       "      <th>Boroughs</th>\n",
       "      <th>Trips</th>\n",
       "    </tr>\n",
       "  </thead>\n",
       "  <tbody>\n",
       "    <tr>\n",
       "      <th>0</th>\n",
       "      <td>Manhattan</td>\n",
       "      <td>2085050</td>\n",
       "    </tr>\n",
       "    <tr>\n",
       "      <th>1</th>\n",
       "      <td>Queens</td>\n",
       "      <td>143578</td>\n",
       "    </tr>\n",
       "    <tr>\n",
       "      <th>2</th>\n",
       "      <td>Brooklyn</td>\n",
       "      <td>37162</td>\n",
       "    </tr>\n",
       "    <tr>\n",
       "      <th>3</th>\n",
       "      <td>Unknown</td>\n",
       "      <td>34065</td>\n",
       "    </tr>\n",
       "    <tr>\n",
       "      <th>4</th>\n",
       "      <td>Bronx</td>\n",
       "      <td>2031</td>\n",
       "    </tr>\n",
       "    <tr>\n",
       "      <th>5</th>\n",
       "      <td>EWR</td>\n",
       "      <td>173</td>\n",
       "    </tr>\n",
       "    <tr>\n",
       "      <th>6</th>\n",
       "      <td>Staten Island</td>\n",
       "      <td>28</td>\n",
       "    </tr>\n",
       "  </tbody>\n",
       "</table>\n",
       "</div>"
      ],
      "text/plain": [
       "        Boroughs    Trips\n",
       "0      Manhattan  2085050\n",
       "1         Queens   143578\n",
       "2       Brooklyn    37162\n",
       "3        Unknown    34065\n",
       "4          Bronx     2031\n",
       "5            EWR      173\n",
       "6  Staten Island       28"
      ]
     },
     "execution_count": 276,
     "metadata": {},
     "output_type": "execute_result"
    }
   ],
   "source": [
    "# Join datasets\n",
    "joined = q4.join(q4_data.set_index('LocationID'), on='PULocationID', how='left')\n",
    "\n",
    "# Calculate pickups by Borough\n",
    "joined = joined['Borough'].value_counts()\n",
    "\n",
    "# Dataframe\n",
    "df_q4 = joined.rename_axis('Boroughs').reset_index(name='Trips')\n",
    "\n",
    "df_q4"
   ]
  },
  {
   "cell_type": "markdown",
   "metadata": {},
   "source": [
    "## b) Boroughs with most amount of interborough trips"
   ]
  },
  {
   "cell_type": "code",
   "execution_count": 304,
   "metadata": {},
   "outputs": [
    {
     "data": {
      "text/html": [
       "<div>\n",
       "<style scoped>\n",
       "    .dataframe tbody tr th:only-of-type {\n",
       "        vertical-align: middle;\n",
       "    }\n",
       "\n",
       "    .dataframe tbody tr th {\n",
       "        vertical-align: top;\n",
       "    }\n",
       "\n",
       "    .dataframe thead th {\n",
       "        text-align: right;\n",
       "    }\n",
       "</style>\n",
       "<table border=\"1\" class=\"dataframe\">\n",
       "  <thead>\n",
       "    <tr style=\"text-align: right;\">\n",
       "      <th></th>\n",
       "      <th>Count</th>\n",
       "    </tr>\n",
       "    <tr>\n",
       "      <th>PUBorough</th>\n",
       "      <th></th>\n",
       "    </tr>\n",
       "  </thead>\n",
       "  <tbody>\n",
       "    <tr>\n",
       "      <th>Bronx</th>\n",
       "      <td>850</td>\n",
       "    </tr>\n",
       "    <tr>\n",
       "      <th>Brooklyn</th>\n",
       "      <td>12469</td>\n",
       "    </tr>\n",
       "    <tr>\n",
       "      <th>EWR</th>\n",
       "      <td>9</td>\n",
       "    </tr>\n",
       "    <tr>\n",
       "      <th>Manhattan</th>\n",
       "      <td>160524</td>\n",
       "    </tr>\n",
       "    <tr>\n",
       "      <th>Queens</th>\n",
       "      <td>106294</td>\n",
       "    </tr>\n",
       "    <tr>\n",
       "      <th>Staten Island</th>\n",
       "      <td>6</td>\n",
       "    </tr>\n",
       "    <tr>\n",
       "      <th>Unknown</th>\n",
       "      <td>5908</td>\n",
       "    </tr>\n",
       "  </tbody>\n",
       "</table>\n",
       "</div>"
      ],
      "text/plain": [
       "                Count\n",
       "PUBorough            \n",
       "Bronx             850\n",
       "Brooklyn        12469\n",
       "EWR                 9\n",
       "Manhattan      160524\n",
       "Queens         106294\n",
       "Staten Island       6\n",
       "Unknown          5908"
      ]
     },
     "execution_count": 304,
     "metadata": {},
     "output_type": "execute_result"
    }
   ],
   "source": [
    "# Join PULocation\n",
    "joined2 = q4.join(q4_data.set_index('LocationID'), on='PULocationID', how='left')\n",
    "joined2.rename(columns = {'Borough' : 'PUBorough'}, inplace = True)\n",
    "\n",
    "# Keep PUBorough column\n",
    "joined3 = joined2['PUBorough']\n",
    "\n",
    "# Join DOLocation\n",
    "joined2 = q4.join(q4_data.set_index('LocationID'), on='DOLocationID', how='left')\n",
    "joined2.rename(columns = {'Borough' : 'DOBorough'}, inplace = True)\n",
    "\n",
    "# Reattach PUBorough column\n",
    "joined2['PUBorough'] = joined3\n",
    "\n",
    "# Filter for different boroughs\n",
    "joined4 = joined2[joined2['PUBorough'] != joined2['DOBorough']]\n",
    "\n",
    "# For nicer viewing at end\n",
    "joined4 = joined4[['PUBorough','DOBorough']]\n",
    "\n",
    "# count instances for each PUBorough\n",
    "joined4 = joined4.groupby('PUBorough').count()\n",
    "\n",
    "# Change for formatting \n",
    "joined4.rename(columns = {'DOBorough' : 'Count'}, inplace = True)\n",
    "\n",
    "# Output\n",
    "joined4"
   ]
  },
  {
   "cell_type": "markdown",
   "metadata": {},
   "source": [
    "# Statistical Analysis of Miscellaneous Data"
   ]
  },
  {
   "cell_type": "markdown",
   "metadata": {},
   "source": [
    "## a) Table"
   ]
  },
  {
   "cell_type": "code",
   "execution_count": 236,
   "metadata": {},
   "outputs": [
    {
     "data": {
      "text/html": [
       "<div>\n",
       "<style scoped>\n",
       "    .dataframe tbody tr th:only-of-type {\n",
       "        vertical-align: middle;\n",
       "    }\n",
       "\n",
       "    .dataframe tbody tr th {\n",
       "        vertical-align: top;\n",
       "    }\n",
       "\n",
       "    .dataframe thead th {\n",
       "        text-align: right;\n",
       "    }\n",
       "</style>\n",
       "<table border=\"1\" class=\"dataframe\">\n",
       "  <thead>\n",
       "    <tr style=\"text-align: right;\">\n",
       "      <th></th>\n",
       "      <th>x</th>\n",
       "      <th>y</th>\n",
       "      <th>z</th>\n",
       "    </tr>\n",
       "  </thead>\n",
       "  <tbody>\n",
       "    <tr>\n",
       "      <th>0</th>\n",
       "      <td>-0.231717</td>\n",
       "      <td>-1.224993</td>\n",
       "      <td>-1.688426</td>\n",
       "    </tr>\n",
       "    <tr>\n",
       "      <th>1</th>\n",
       "      <td>-1.212692</td>\n",
       "      <td>0.940640</td>\n",
       "      <td>-1.484744</td>\n",
       "    </tr>\n",
       "    <tr>\n",
       "      <th>2</th>\n",
       "      <td>0.493274</td>\n",
       "      <td>0.377624</td>\n",
       "      <td>1.364171</td>\n",
       "    </tr>\n",
       "    <tr>\n",
       "      <th>3</th>\n",
       "      <td>1.176010</td>\n",
       "      <td>-0.147271</td>\n",
       "      <td>2.204748</td>\n",
       "    </tr>\n",
       "    <tr>\n",
       "      <th>4</th>\n",
       "      <td>0.327450</td>\n",
       "      <td>-0.509145</td>\n",
       "      <td>0.145756</td>\n",
       "    </tr>\n",
       "    <tr>\n",
       "      <th>...</th>\n",
       "      <td>...</td>\n",
       "      <td>...</td>\n",
       "      <td>...</td>\n",
       "    </tr>\n",
       "    <tr>\n",
       "      <th>9995</th>\n",
       "      <td>1.018608</td>\n",
       "      <td>1.127005</td>\n",
       "      <td>3.164222</td>\n",
       "    </tr>\n",
       "    <tr>\n",
       "      <th>9996</th>\n",
       "      <td>-0.232701</td>\n",
       "      <td>-0.774976</td>\n",
       "      <td>-1.240379</td>\n",
       "    </tr>\n",
       "    <tr>\n",
       "      <th>9997</th>\n",
       "      <td>-1.448152</td>\n",
       "      <td>1.847592</td>\n",
       "      <td>-1.048711</td>\n",
       "    </tr>\n",
       "    <tr>\n",
       "      <th>9998</th>\n",
       "      <td>-0.958083</td>\n",
       "      <td>-1.301739</td>\n",
       "      <td>-3.217905</td>\n",
       "    </tr>\n",
       "    <tr>\n",
       "      <th>9999</th>\n",
       "      <td>-0.700745</td>\n",
       "      <td>0.946214</td>\n",
       "      <td>-0.455276</td>\n",
       "    </tr>\n",
       "  </tbody>\n",
       "</table>\n",
       "<p>10000 rows × 3 columns</p>\n",
       "</div>"
      ],
      "text/plain": [
       "             x         y         z\n",
       "0    -0.231717 -1.224993 -1.688426\n",
       "1    -1.212692  0.940640 -1.484744\n",
       "2     0.493274  0.377624  1.364171\n",
       "3     1.176010 -0.147271  2.204748\n",
       "4     0.327450 -0.509145  0.145756\n",
       "...        ...       ...       ...\n",
       "9995  1.018608  1.127005  3.164222\n",
       "9996 -0.232701 -0.774976 -1.240379\n",
       "9997 -1.448152  1.847592 -1.048711\n",
       "9998 -0.958083 -1.301739 -3.217905\n",
       "9999 -0.700745  0.946214 -0.455276\n",
       "\n",
       "[10000 rows x 3 columns]"
      ]
     },
     "execution_count": 236,
     "metadata": {},
     "output_type": "execute_result"
    }
   ],
   "source": [
    "q_5 = pd.DataFrame(np.random.normal(size=(10000 ,2)), columns=['x','y'])\n",
    "q_5['z'] = (2*q_5['x']) + q_5['y']\n",
    "q_5"
   ]
  },
  {
   "cell_type": "markdown",
   "metadata": {},
   "source": [
    "## b) Covariance calculating function"
   ]
  },
  {
   "cell_type": "code",
   "execution_count": 238,
   "metadata": {},
   "outputs": [],
   "source": [
    "def mycov(df, col_name_1, col_name_2):\n",
    "    # for z and x it should be 2 as n -> inf\n",
    "    part1 = (q_5[col_name_1]*q_5[col_name_2]).mean()\n",
    "    part2 = (q_5[col_name_1].mean())*(q_5[col_name_2].mean())\n",
    "    part3 = part1 - part2\n",
    "    return part3"
   ]
  },
  {
   "cell_type": "code",
   "execution_count": 243,
   "metadata": {},
   "outputs": [
    {
     "data": {
      "text/plain": [
       "2.0182557167603514"
      ]
     },
     "execution_count": 243,
     "metadata": {},
     "output_type": "execute_result"
    }
   ],
   "source": [
    "mycov(q_5, 'z', 'x')"
   ]
  },
  {
   "cell_type": "markdown",
   "metadata": {},
   "source": [
    "### Should be close to 2 ^"
   ]
  },
  {
   "cell_type": "markdown",
   "metadata": {},
   "source": [
    "## c) Covariance of independent variables"
   ]
  },
  {
   "cell_type": "code",
   "execution_count": 248,
   "metadata": {},
   "outputs": [
    {
     "data": {
      "text/plain": [
       "-0.0012955342435938856"
      ]
     },
     "execution_count": 248,
     "metadata": {},
     "output_type": "execute_result"
    }
   ],
   "source": [
    "mycov(q_5, 'y', 'x')"
   ]
  },
  {
   "cell_type": "markdown",
   "metadata": {},
   "source": [
    "### It should be approaching value of 0 since Var(X,Y) is 0 because X and Y are independent"
   ]
  },
  {
   "cell_type": "markdown",
   "metadata": {},
   "source": [
    "## d) Plots"
   ]
  },
  {
   "cell_type": "code",
   "execution_count": 246,
   "metadata": {},
   "outputs": [
    {
     "data": {
      "text/plain": [
       "[<matplotlib.lines.Line2D at 0x7fca73394df0>]"
      ]
     },
     "execution_count": 246,
     "metadata": {},
     "output_type": "execute_result"
    },
    {
     "data": {
      "image/png": "[encoded data removed]",
      "text/plain": [
       "<Figure size 432x288 with 1 Axes>"
      ]
     },
     "metadata": {
      "needs_background": "light"
     },
     "output_type": "display_data"
    }
   ],
   "source": [
    "plt.plot(q_5['x'],q_5['z'],'.')"
   ]
  },
  {
   "cell_type": "code",
   "execution_count": 247,
   "metadata": {},
   "outputs": [
    {
     "data": {
      "text/plain": [
       "[<matplotlib.lines.Line2D at 0x7fca73312400>]"
      ]
     },
     "execution_count": 247,
     "metadata": {},
     "output_type": "execute_result"
    },
    {
     "data": {
      "image/png": "[encoded data removed]",
      "text/plain": [
       "<Figure size 432x288 with 1 Axes>"
      ]
     },
     "metadata": {
      "needs_background": "light"
     },
     "output_type": "display_data"
    }
   ],
   "source": [
    "plt.plot(q_5['y'],q_5['x'],'.')"
   ]
  }
 ],
 "metadata": {
  "kernelspec": {
   "display_name": "Python 3",
   "language": "python",
   "name": "python3"
  },
  "language_info": {
   "codemirror_mode": {
    "name": "ipython",
    "version": 3
   },
   "file_extension": ".py",
   "mimetype": "text/x-python",
   "name": "python",
   "nbconvert_exporter": "python",
   "pygments_lexer": "ipython3",
   "version": "3.8.3"
  }
 },
 "nbformat": 4,
 "nbformat_minor": 4
}
